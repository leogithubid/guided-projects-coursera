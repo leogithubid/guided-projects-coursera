{
 "cells": [
  {
   "cell_type": "markdown",
   "id": "05b4f578",
   "metadata": {},
   "source": [
    "# WELCOME TO THE NOTEBOOK\n",
    "---\n",
    "### Agenda:\n",
    "\n",
    "#### Task 1: what is Lambda expression?\n",
    "#### Task 2: Lambda expressions and lists\n",
    "    - what is map function?\n",
    "    - map function and lambda\n",
    "#### Task 3: Lambda expressions combined if else statement \n",
    "    - what is filter function ?\n",
    "#### Task 4: Lambda expressions and sorting \n",
    "    - sorting a list of tuples using Lambda \n",
    "    - sorting a list of dictionaries using Lambda\n",
    "#### Task 5: Data Manipulation and Exploration using Lambda Expressions"
   ]
  },
  {
   "cell_type": "markdown",
   "id": "38a3e148",
   "metadata": {},
   "source": [
    "### Task 1: What is Lambda Expression ? "
   ]
  },
  {
   "cell_type": "markdown",
   "id": "6c0d1733",
   "metadata": {},
   "source": [
    "- Let's define a python function:  get two numerical variables as an input, and calculate the multiplication of two values and return it.  "
   ]
  },
  {
   "cell_type": "code",
   "execution_count": 1,
   "id": "db2101b9",
   "metadata": {},
   "outputs": [
    {
     "data": {
      "text/plain": [
       "200"
      ]
     },
     "execution_count": 1,
     "metadata": {},
     "output_type": "execute_result"
    }
   ],
   "source": [
    "def multiply_two(a,b):\n",
    "    return a*b\n",
    "multiply_two(10,20)"
   ]
  },
  {
   "cell_type": "markdown",
   "id": "fe1c10a0",
   "metadata": {},
   "source": [
    "- let's define a lambda expression with the same purpose\n",
    "\n",
    "<img src=\"images/lambdaa.png\" >"
   ]
  },
  {
   "cell_type": "code",
   "execution_count": 1,
   "id": "deab5629",
   "metadata": {},
   "outputs": [],
   "source": [
    "multiply_lambda = lambda a,b : a * b"
   ]
  },
  {
   "cell_type": "markdown",
   "id": "99881923",
   "metadata": {},
   "source": [
    "- let's check the variable type "
   ]
  },
  {
   "cell_type": "code",
   "execution_count": 2,
   "id": "3003bc96",
   "metadata": {},
   "outputs": [
    {
     "data": {
      "text/plain": [
       "function"
      ]
     },
     "execution_count": 2,
     "metadata": {},
     "output_type": "execute_result"
    }
   ],
   "source": [
    "type(multiply_lambda)"
   ]
  },
  {
   "cell_type": "markdown",
   "id": "456f82fc",
   "metadata": {},
   "source": [
    "- let's call the lambda "
   ]
  },
  {
   "cell_type": "code",
   "execution_count": 3,
   "id": "bee064c0",
   "metadata": {},
   "outputs": [
    {
     "data": {
      "text/plain": [
       "200"
      ]
     },
     "execution_count": 3,
     "metadata": {},
     "output_type": "execute_result"
    }
   ],
   "source": [
    "multiply_lambda(10,20)"
   ]
  },
  {
   "cell_type": "markdown",
   "id": "71b2e123",
   "metadata": {},
   "source": [
    "- example : define a lambda function: gets a value and return square of the value"
   ]
  },
  {
   "cell_type": "code",
   "execution_count": 4,
   "id": "115f9249",
   "metadata": {},
   "outputs": [
    {
     "data": {
      "text/plain": [
       "25"
      ]
     },
     "execution_count": 4,
     "metadata": {},
     "output_type": "execute_result"
    }
   ],
   "source": [
    "square_lambda = lambda a : a **2\n",
    "square_lambda(5)"
   ]
  },
  {
   "cell_type": "markdown",
   "id": "6aacfc63",
   "metadata": {},
   "source": [
    "- example : define lambda function: gets three values and return a list containing those values"
   ]
  },
  {
   "cell_type": "code",
   "execution_count": 5,
   "id": "d8d1b1b6",
   "metadata": {},
   "outputs": [
    {
     "data": {
      "text/plain": [
       "['John', 'Jaffar', 'Janardhanan']"
      ]
     },
     "execution_count": 5,
     "metadata": {},
     "output_type": "execute_result"
    }
   ],
   "source": [
    "list_lambda = lambda a,b,c : [a,b,c]\n",
    "list_lambda('John','Jaffar','Janardhanan')"
   ]
  },
  {
   "cell_type": "markdown",
   "id": "60858e8f",
   "metadata": {},
   "source": [
    "- example : define lambda function : gets a string and return the first character of the string"
   ]
  },
  {
   "cell_type": "code",
   "execution_count": 6,
   "id": "80f73223",
   "metadata": {},
   "outputs": [
    {
     "data": {
      "text/plain": [
       "'A'"
      ]
     },
     "execution_count": 6,
     "metadata": {},
     "output_type": "execute_result"
    }
   ],
   "source": [
    "first_lambda = lambda x : x[0]\n",
    "first_lambda('Amar Akbar Anthony')"
   ]
  },
  {
   "cell_type": "markdown",
   "id": "84135a2f",
   "metadata": {},
   "source": [
    "- Exercise : define a lambda function: gets a string and return the length of it "
   ]
  },
  {
   "cell_type": "code",
   "execution_count": 7,
   "id": "07ddca13",
   "metadata": {},
   "outputs": [
    {
     "data": {
      "text/plain": [
       "11"
      ]
     },
     "execution_count": 7,
     "metadata": {},
     "output_type": "execute_result"
    }
   ],
   "source": [
    "length_lambda = lambda x : len(x)\n",
    "length_lambda('Thuramukham')"
   ]
  },
  {
   "cell_type": "markdown",
   "id": "d2291f9e",
   "metadata": {},
   "source": [
    "### Task 2: Lambda Functions and Lists"
   ]
  },
  {
   "cell_type": "markdown",
   "id": "fdb014aa",
   "metadata": {},
   "source": [
    "- let's define a normal function: get's a list, return a list of all values to the power of 2 "
   ]
  },
  {
   "cell_type": "code",
   "execution_count": 1,
   "id": "74701a0e",
   "metadata": {},
   "outputs": [],
   "source": [
    "numbers = [1,2,3,10,9,3,4,10,7]"
   ]
  },
  {
   "cell_type": "code",
   "execution_count": null,
   "id": "e8a1b046",
   "metadata": {},
   "outputs": [],
   "source": []
  },
  {
   "cell_type": "markdown",
   "id": "7a2d6686",
   "metadata": {},
   "source": [
    "- let's use map function "
   ]
  },
  {
   "cell_type": "code",
   "execution_count": null,
   "id": "dac12615",
   "metadata": {},
   "outputs": [],
   "source": []
  },
  {
   "cell_type": "markdown",
   "id": "af99de55",
   "metadata": {},
   "source": [
    "- map function and lambda "
   ]
  },
  {
   "cell_type": "code",
   "execution_count": null,
   "id": "48c8675c",
   "metadata": {},
   "outputs": [],
   "source": []
  },
  {
   "cell_type": "markdown",
   "id": "f9ba2069",
   "metadata": {},
   "source": [
    "- let's make it even more compact"
   ]
  },
  {
   "cell_type": "code",
   "execution_count": null,
   "id": "e59f5f25",
   "metadata": {},
   "outputs": [],
   "source": []
  },
  {
   "cell_type": "markdown",
   "id": "18634612",
   "metadata": {},
   "source": [
    "- example: I have a list of words, let's use map function to convert all the words into upper case."
   ]
  },
  {
   "cell_type": "code",
   "execution_count": 2,
   "id": "b63de8b7",
   "metadata": {},
   "outputs": [],
   "source": [
    "words = [\"football\",\"python\",\"java\",\"coffee\",\"keyboard\"]"
   ]
  },
  {
   "cell_type": "code",
   "execution_count": null,
   "id": "44425dee",
   "metadata": {},
   "outputs": [],
   "source": []
  },
  {
   "cell_type": "markdown",
   "id": "173be80b",
   "metadata": {},
   "source": [
    "- Exercise : we have a list of sentences, use map function and lambda to convert all the sentences into lower case. "
   ]
  },
  {
   "cell_type": "code",
   "execution_count": 3,
   "id": "b99e2b06",
   "metadata": {},
   "outputs": [],
   "source": [
    "sentences = [\n",
    "    \"Today is Thursday and weather Is Sunny.\",\n",
    "    \"Tomorrow at 14 PM, Meeting with Daniel.\",\n",
    "    \"Python is a powerfull Tool For DataScience.\",\n",
    "    \"Tommy Called Today, He told me He does not feel Good... I think It's COVID!\"\n",
    "]"
   ]
  },
  {
   "cell_type": "code",
   "execution_count": null,
   "id": "6e39b188",
   "metadata": {},
   "outputs": [],
   "source": []
  },
  {
   "cell_type": "markdown",
   "id": "d4453f05",
   "metadata": {},
   "source": [
    "### Task 3 : Lambda Expression combined with if statement"
   ]
  },
  {
   "cell_type": "markdown",
   "id": "170ea7be",
   "metadata": {},
   "source": [
    "- let's define a normal function: gets a value and return true of the value is even, return false if the value is odd"
   ]
  },
  {
   "cell_type": "code",
   "execution_count": null,
   "id": "e05a2e53",
   "metadata": {},
   "outputs": [],
   "source": []
  },
  {
   "cell_type": "markdown",
   "id": "d1399130",
   "metadata": {},
   "source": [
    "- let's define a lambda with same purpose"
   ]
  },
  {
   "cell_type": "code",
   "execution_count": null,
   "id": "0c09526a",
   "metadata": {},
   "outputs": [],
   "source": []
  },
  {
   "cell_type": "markdown",
   "id": "5511a7f1",
   "metadata": {},
   "source": [
    "- consider a list of numbers, define a normal function : gets a list of numbers and create a new list that contains only the even numbers from our input list"
   ]
  },
  {
   "cell_type": "code",
   "execution_count": 4,
   "id": "2ed2e31a",
   "metadata": {},
   "outputs": [],
   "source": [
    "numbers = [1,2,3,10,9,3,4,10,7]"
   ]
  },
  {
   "cell_type": "code",
   "execution_count": null,
   "id": "21c4d559",
   "metadata": {},
   "outputs": [],
   "source": []
  },
  {
   "cell_type": "markdown",
   "id": "bd2b780a",
   "metadata": {},
   "source": [
    "- let's use filter function "
   ]
  },
  {
   "cell_type": "code",
   "execution_count": null,
   "id": "cc265ccb",
   "metadata": {},
   "outputs": [],
   "source": []
  },
  {
   "cell_type": "markdown",
   "id": "e2725503",
   "metadata": {},
   "source": [
    "- example: I have a list of names, let's use filter function and lambda to filter out the names starting with 'A'"
   ]
  },
  {
   "cell_type": "code",
   "execution_count": 5,
   "id": "f80ffb65",
   "metadata": {},
   "outputs": [],
   "source": [
    "names = [\"John\",\"Alex\",\"Maiki\",\"Alice\",\"Layla\",\"Hanna\",\"Alexander\",\"Anil\",\"Angela\",\"Lola\",\"Thelma\",\"Clara\"]"
   ]
  },
  {
   "cell_type": "code",
   "execution_count": null,
   "id": "908871f2",
   "metadata": {},
   "outputs": [],
   "source": []
  },
  {
   "cell_type": "markdown",
   "id": "295e59bf",
   "metadata": {},
   "source": [
    "- example: use filter and lambda function to filter out the names that starts with an 'A' and with the length of 4 "
   ]
  },
  {
   "cell_type": "code",
   "execution_count": null,
   "id": "b181e93f",
   "metadata": {},
   "outputs": [],
   "source": []
  },
  {
   "cell_type": "markdown",
   "id": "e6a94704",
   "metadata": {},
   "source": [
    "- exercise: we have a list of numbers, use map function and lambda to multiply the odd values by 10 and the even values by 100 in our numbers list"
   ]
  },
  {
   "cell_type": "code",
   "execution_count": 6,
   "id": "08b938c3",
   "metadata": {},
   "outputs": [],
   "source": [
    "numbers = [1,2,3,10,9,3,4,10,7]"
   ]
  },
  {
   "cell_type": "code",
   "execution_count": null,
   "id": "ec004e0e",
   "metadata": {},
   "outputs": [],
   "source": []
  },
  {
   "cell_type": "markdown",
   "id": "9d27967d",
   "metadata": {},
   "source": [
    "### Task 4: Lambda expressions and sorting "
   ]
  },
  {
   "cell_type": "markdown",
   "id": "862e31aa",
   "metadata": {},
   "source": [
    "#### Sorting a list of tuples \n",
    "- Let's say we have a list of products with their respective prices, stored as a tupple in a list."
   ]
  },
  {
   "cell_type": "code",
   "execution_count": 7,
   "id": "49f54fdd",
   "metadata": {},
   "outputs": [],
   "source": [
    "products = [\n",
    "    (\"Cheese\",1.50),\n",
    "    (\"Banana Bread\",2.10),\n",
    "    (\"Chicken Meat\",3.50),\n",
    "    (\"Apple Juice\",0.45),\n",
    "    (\"Orange Juice\",1.25),\n",
    "    (\"Milk\",0.75),\n",
    "    (\"Mango\",1.25)\n",
    "]"
   ]
  },
  {
   "cell_type": "markdown",
   "id": "415c895d",
   "metadata": {},
   "source": [
    "- Let's sort the list based on the prices "
   ]
  },
  {
   "cell_type": "code",
   "execution_count": null,
   "id": "98cfca6b",
   "metadata": {},
   "outputs": [],
   "source": []
  },
  {
   "cell_type": "code",
   "execution_count": null,
   "id": "624793ee",
   "metadata": {},
   "outputs": [],
   "source": []
  },
  {
   "cell_type": "markdown",
   "id": "116ecfc7",
   "metadata": {},
   "source": [
    "#### Sorting a list of dictionaries \n",
    "- Let's say we have a list of 7 person with their information (name, age, Income) stored in a dictionary."
   ]
  },
  {
   "cell_type": "code",
   "execution_count": 8,
   "id": "466cfe1b",
   "metadata": {},
   "outputs": [],
   "source": [
    "persons = [\n",
    "    {\"Name\" : \"Jake\" , \"Age\" : 23 , \"Income\"  : 450 },\n",
    "    {\"Name\" : \"Maria\" , \"Age\"  : 32 , \"Income\"  : 2550 },\n",
    "    {\"Name\" : \"Will\" , \"Age\"  : 43 , \"Income\"  : 4500 },\n",
    "    {\"Name\" : \"Layla\" , \"Age\"  : 12 , \"Income\"  : 0 },\n",
    "    {\"Name\" : \"Mina\" , \"Age\"  : 35 , \"Income\"  : 2100 },\n",
    "    {\"Name\" : \"Lola\" , \"Age\"  : 28 , \"Income\"  : 450 },\n",
    "    {\"Name\" : \"Thelma\" , \"Age\"  : 23 , \"Income\"  : 450 },\n",
    "]"
   ]
  },
  {
   "cell_type": "markdown",
   "id": "bed7fb1a",
   "metadata": {},
   "source": [
    "- sort the list based on each person's age "
   ]
  },
  {
   "cell_type": "code",
   "execution_count": null,
   "id": "f5ea167e",
   "metadata": {},
   "outputs": [],
   "source": []
  },
  {
   "cell_type": "markdown",
   "id": "0cb815c6",
   "metadata": {},
   "source": [
    "- Exercise: sort the list based on each person's income "
   ]
  },
  {
   "cell_type": "code",
   "execution_count": null,
   "id": "7f9f251a",
   "metadata": {},
   "outputs": [],
   "source": []
  },
  {
   "cell_type": "markdown",
   "id": "8ee0683d",
   "metadata": {},
   "source": [
    "### Task 5: Data Manipulation and Exploration using Lambda Expressions\n",
    "- we have dataframe containing of information related to 11 Employees who are working in a technology company"
   ]
  },
  {
   "cell_type": "code",
   "execution_count": 9,
   "id": "670e88d6",
   "metadata": {},
   "outputs": [
    {
     "data": {
      "text/html": [
       "<div>\n",
       "<style scoped>\n",
       "    .dataframe tbody tr th:only-of-type {\n",
       "        vertical-align: middle;\n",
       "    }\n",
       "\n",
       "    .dataframe tbody tr th {\n",
       "        vertical-align: top;\n",
       "    }\n",
       "\n",
       "    .dataframe thead th {\n",
       "        text-align: right;\n",
       "    }\n",
       "</style>\n",
       "<table border=\"1\" class=\"dataframe\">\n",
       "  <thead>\n",
       "    <tr style=\"text-align: right;\">\n",
       "      <th></th>\n",
       "      <th>Name</th>\n",
       "      <th>Hourly Wage</th>\n",
       "      <th>Type of contract</th>\n",
       "    </tr>\n",
       "  </thead>\n",
       "  <tbody>\n",
       "    <tr>\n",
       "      <th>0</th>\n",
       "      <td>Jeremy</td>\n",
       "      <td>6</td>\n",
       "      <td>Part-Time</td>\n",
       "    </tr>\n",
       "    <tr>\n",
       "      <th>1</th>\n",
       "      <td>Frank</td>\n",
       "      <td>7</td>\n",
       "      <td>Part-Time</td>\n",
       "    </tr>\n",
       "    <tr>\n",
       "      <th>2</th>\n",
       "      <td>Janet</td>\n",
       "      <td>22</td>\n",
       "      <td>Full-Time</td>\n",
       "    </tr>\n",
       "    <tr>\n",
       "      <th>3</th>\n",
       "      <td>Ryan</td>\n",
       "      <td>10</td>\n",
       "      <td>Part-Time</td>\n",
       "    </tr>\n",
       "    <tr>\n",
       "      <th>4</th>\n",
       "      <td>Mary</td>\n",
       "      <td>32</td>\n",
       "      <td>Full-Time</td>\n",
       "    </tr>\n",
       "    <tr>\n",
       "      <th>5</th>\n",
       "      <td>John</td>\n",
       "      <td>10</td>\n",
       "      <td>Part-Time</td>\n",
       "    </tr>\n",
       "    <tr>\n",
       "      <th>6</th>\n",
       "      <td>Alex</td>\n",
       "      <td>29</td>\n",
       "      <td>Full-Time</td>\n",
       "    </tr>\n",
       "    <tr>\n",
       "      <th>7</th>\n",
       "      <td>Maiki</td>\n",
       "      <td>10</td>\n",
       "      <td>Part-Time</td>\n",
       "    </tr>\n",
       "    <tr>\n",
       "      <th>8</th>\n",
       "      <td>Alice</td>\n",
       "      <td>12</td>\n",
       "      <td>Part-Time</td>\n",
       "    </tr>\n",
       "    <tr>\n",
       "      <th>9</th>\n",
       "      <td>Layla</td>\n",
       "      <td>10</td>\n",
       "      <td>Part-Time</td>\n",
       "    </tr>\n",
       "    <tr>\n",
       "      <th>10</th>\n",
       "      <td>Hanna</td>\n",
       "      <td>30</td>\n",
       "      <td>Full-Time</td>\n",
       "    </tr>\n",
       "  </tbody>\n",
       "</table>\n",
       "</div>"
      ],
      "text/plain": [
       "      Name  Hourly Wage Type of contract\n",
       "0   Jeremy            6        Part-Time\n",
       "1    Frank            7        Part-Time\n",
       "2    Janet           22        Full-Time\n",
       "3     Ryan           10        Part-Time\n",
       "4     Mary           32        Full-Time\n",
       "5     John           10        Part-Time\n",
       "6     Alex           29        Full-Time\n",
       "7    Maiki           10        Part-Time\n",
       "8    Alice           12        Part-Time\n",
       "9    Layla           10        Part-Time\n",
       "10   Hanna           30        Full-Time"
      ]
     },
     "execution_count": 9,
     "metadata": {},
     "output_type": "execute_result"
    }
   ],
   "source": [
    "import pandas as pd \n",
    "dataframe = pd.DataFrame({\n",
    "    'Name':['Jeremy','Frank','Janet','Ryan','Mary',\"John\",\"Alex\",\"Maiki\",\"Alice\",\"Layla\",\"Hanna\"],\n",
    "    'Hourly Wage' : [6,7,22,10,32,10,29,10,12,10,30],\n",
    "    'Type of contract' : [\"Part-Time\",\"Part-Time\",\"Full-Time\",\"Part-Time\",\n",
    "                          \"Full-Time\",\"Part-Time\",\"Full-Time\",\"Part-Time\",\n",
    "                          \"Part-Time\",\"Part-Time\",\"Full-Time\"]\n",
    "})\n",
    "dataframe"
   ]
  },
  {
   "cell_type": "markdown",
   "id": "fef452e5",
   "metadata": {},
   "source": [
    "- let's add a column \"Daily Working Hours\", containing of number of hours each employee works in a day, based on their contract type. \n",
    "#### Assume that  : \n",
    "    - part-time job working hours : 20 hours per week (4 hours per day)\n",
    "    - full-time job working hours : 40 hours per week (8 hours per day)"
   ]
  },
  {
   "cell_type": "code",
   "execution_count": null,
   "id": "8917e086",
   "metadata": {},
   "outputs": [],
   "source": []
  },
  {
   "cell_type": "markdown",
   "id": "bc4535cb",
   "metadata": {},
   "source": [
    "- Let's add a column \"Annual Income\", calculate Annual income of each employee"
   ]
  },
  {
   "cell_type": "code",
   "execution_count": null,
   "id": "b2f2fdf0",
   "metadata": {},
   "outputs": [],
   "source": []
  },
  {
   "cell_type": "markdown",
   "id": "1d22c999",
   "metadata": {},
   "source": [
    "- Exercise: Add a column \"Annual Tax Amount\", for each person calculate how much tax they pay each a year based on the annual income\n",
    "#### Personal income tax rates  :\n",
    "    - if the annual income is more than 64000, the tax rate would be 35%\n",
    "    - if the annual income is less than 64000, the tax rate would be 0%"
   ]
  },
  {
   "cell_type": "code",
   "execution_count": null,
   "id": "17ba3976",
   "metadata": {},
   "outputs": [],
   "source": []
  },
  {
   "cell_type": "code",
   "execution_count": null,
   "id": "eb8a117e",
   "metadata": {},
   "outputs": [],
   "source": []
  }
 ],
 "metadata": {
  "kernelspec": {
   "display_name": "Python 3 (ipykernel)",
   "language": "python",
   "name": "python3"
  },
  "language_info": {
   "codemirror_mode": {
    "name": "ipython",
    "version": 3
   },
   "file_extension": ".py",
   "mimetype": "text/x-python",
   "name": "python",
   "nbconvert_exporter": "python",
   "pygments_lexer": "ipython3",
   "version": "3.9.7"
  }
 },
 "nbformat": 4,
 "nbformat_minor": 5
}
